{
  "nbformat": 4,
  "nbformat_minor": 0,
  "metadata": {
    "colab": {
      "name": "Untitled6.ipynb",
      "version": "0.3.2",
      "provenance": [],
      "include_colab_link": true
    },
    "kernelspec": {
      "name": "python3",
      "display_name": "Python 3"
    }
  },
  "cells": [
    {
      "cell_type": "markdown",
      "metadata": {
        "id": "view-in-github",
        "colab_type": "text"
      },
      "source": [
        "<a href=\"https://colab.research.google.com/github/vigneshmj1997/ipynb/blob/master/Untitled6.ipynb\" target=\"_parent\"><img src=\"https://colab.research.google.com/assets/colab-badge.svg\" alt=\"Open In Colab\"/></a>"
      ]
    },
    {
      "metadata": {
        "id": "MSWttixF47uZ",
        "colab_type": "code",
        "outputId": "9246ff3c-8560-41f8-b37e-a18d78220c22",
        "colab": {
          "base_uri": "https://localhost:8080/",
          "height": 63
        }
      },
      "cell_type": "code",
      "source": [
        "!git clone https://github.com/9444148408msr/DataSet.git\n",
        "  "
      ],
      "execution_count": 1,
      "outputs": [
        {
          "output_type": "stream",
          "text": [
            "fatal: destination path 'DataSet' already exists and is not an empty directory.\n"
          ],
          "name": "stdout"
        }
      ]
    },
    {
      "metadata": {
        "id": "86tFjW-M5RYQ",
        "colab_type": "code",
        "outputId": "7b415521-eafb-4d32-d06a-89302ff84b73",
        "colab": {
          "base_uri": "https://localhost:8080/",
          "height": 63
        }
      },
      "cell_type": "code",
      "source": [
        "ls\n"
      ],
      "execution_count": 2,
      "outputs": [
        {
          "output_type": "stream",
          "text": [
            "\u001b[0m\u001b[01;34mDataSet\u001b[0m/  \u001b[01;34msample_data\u001b[0m/\n"
          ],
          "name": "stdout"
        }
      ]
    },
    {
      "metadata": {
        "id": "1465JTwY5hpr",
        "colab_type": "code",
        "outputId": "c691b673-21e8-47ba-a2f1-07a0e611041d",
        "colab": {
          "base_uri": "https://localhost:8080/",
          "height": 34
        }
      },
      "cell_type": "code",
      "source": [
        "cd DataSet\n"
      ],
      "execution_count": 3,
      "outputs": [
        {
          "output_type": "stream",
          "text": [
            "/content/DataSet\n"
          ],
          "name": "stdout"
        }
      ]
    },
    {
      "metadata": {
        "id": "9PLZGciS5mvP",
        "colab_type": "code",
        "outputId": "8035c974-d8eb-463e-bdba-c892b457250c",
        "colab": {
          "base_uri": "https://localhost:8080/",
          "height": 80
        }
      },
      "cell_type": "code",
      "source": [
        "ls"
      ],
      "execution_count": 4,
      "outputs": [
        {
          "output_type": "stream",
          "text": [
            "demo1.csv  demo4.csv  demo6.csv  demo.csv\n",
            "demo3.csv  demo5.csv  demo7.csv  README.md\n"
          ],
          "name": "stdout"
        }
      ]
    },
    {
      "metadata": {
        "id": "rYYdErcs5npM",
        "colab_type": "code",
        "colab": {}
      },
      "cell_type": "code",
      "source": [
        "import pandas as pd\n",
        "data=pd.read_csv(\"/content/DataSet/demo1.csv\")\n",
        "data=pd.concat([data,pd.read_csv(\"/content/DataSet/demo.csv\")])\n",
        "data=pd.concat([data,pd.read_csv(\"/content/DataSet/demo3.csv\")])\n",
        "data=pd.concat([data,pd.read_csv(\"/content/DataSet/demo4.csv\")])\n",
        "data=pd.concat([data,pd.read_csv(\"/content/DataSet/demo5.csv\")])\n",
        "data=pd.concat([data,pd.read_csv(\"/content/DataSet/demo6.csv\")])\n",
        "\n",
        "\n",
        "data=data.drop(\"cycles.1\",1)\n",
        "time=data[\"time.1\"]\n",
        "data=data.drop([\"time.1\"],1)\n",
        "data=data.drop(\"CPU_core_demand.1\",1)\n",
        "data=data.drop(\"RAM_demand.1\",1)\n",
        "import random\n"
      ],
      "execution_count": 0,
      "outputs": []
    },
    {
      "metadata": {
        "id": "EidwKJj6IUev",
        "colab_type": "code",
        "colab": {}
      },
      "cell_type": "code",
      "source": [
        "time=[i+random.random() for i in time]\n"
      ],
      "execution_count": 0,
      "outputs": []
    },
    {
      "metadata": {
        "id": "i5OFspJD5v2y",
        "colab_type": "code",
        "colab": {
          "base_uri": "https://localhost:8080/",
          "height": 34
        },
        "outputId": "78ed26d9-b3c8-4d84-eec3-402d1e6bad36"
      },
      "cell_type": "code",
      "source": [
        "import keras\n",
        "from keras.models import Sequential\n",
        "from keras.layers import Dense\n",
        "from keras.wrappers.scikit_learn import KerasRegressor\n",
        "from sklearn.model_selection import cross_val_score\n",
        "from sklearn.model_selection import KFold\n",
        "from sklearn.preprocessing import StandardScaler\n",
        "from sklearn.pipeline import Pipeline\n",
        "from keras.layers import Dropout\n",
        "from keras.layers import Activation, Dense"
      ],
      "execution_count": 7,
      "outputs": [
        {
          "output_type": "stream",
          "text": [
            "Using TensorFlow backend.\n"
          ],
          "name": "stderr"
        }
      ]
    },
    {
      "metadata": {
        "id": "TDTriaj_58C9",
        "colab_type": "code",
        "colab": {}
      },
      "cell_type": "code",
      "source": [
        "from keras.layers import LeakyReLU,PReLU\n",
        "from keras import metrics\n",
        "\n",
        "def baseline_model():\n",
        "\n",
        "    model = Sequential()\n",
        "    model.add(Dense(16, input_dim=16, kernel_initializer='normal'))\n",
        "    model.add(Activation('tanh'))\n",
        "    model.add(Dense(8, kernel_initializer='normal'))\n",
        "    model.add(Activation('tanh'))\n",
        "    model.add(Dense(4, kernel_initializer='normal'))\n",
        "    model.add(Activation('tanh'))   \n",
        "    model.add(Dense(2, kernel_initializer='normal'))    \n",
        "    model.add(Dense(1, kernel_initializer='normal'))    \n",
        "    model.compile(loss='mean_squared_error', optimizer='Rmsprop',metrics=['mae', 'acc'])\n",
        "    return model"
      ],
      "execution_count": 0,
      "outputs": []
    },
    {
      "metadata": {
        "id": "vL7oWUCL_kga",
        "colab_type": "code",
        "colab": {}
      },
      "cell_type": "code",
      "source": [
        "import numpy as np\n",
        "from sklearn.decomposition import PCA\n",
        "x_data=np.array(data)\n",
        "pca=PCA(n_components=16)\n",
        "pca.fit(x_data)\n",
        "x_data=pca.transform(x_data)\n",
        "from sklearn.preprocessing import normalize\n",
        "x_data=normalize(x_data,norm=\"l1\")\n",
        "from sklearn import preprocessing\n",
        "x_data=preprocessing.scale(x_data)"
      ],
      "execution_count": 0,
      "outputs": []
    },
    {
      "metadata": {
        "id": "2NJhTrci6JQp",
        "colab_type": "code",
        "colab": {}
      },
      "cell_type": "code",
      "source": [
        "from sklearn.model_selection import train_test_split\n",
        "import numpy as np\n",
        "X_train, X_test, y_train, y_test = train_test_split(np.array(x_data), np.array(time), test_size=0.3, random_state=42)"
      ],
      "execution_count": 0,
      "outputs": []
    },
    {
      "metadata": {
        "id": "es96DYwp6ODe",
        "colab_type": "code",
        "outputId": "74ab62a0-a95d-4db4-8975-8f679db24a41",
        "colab": {
          "base_uri": "https://localhost:8080/",
          "height": 3556
        }
      },
      "cell_type": "code",
      "source": [
        "model=baseline_model()\n",
        "history=model.fit(X_train, y_train, validation_data=(X_test, y_test),epochs=100, batch_size=100)"
      ],
      "execution_count": 11,
      "outputs": [
        {
          "output_type": "stream",
          "text": [
            "WARNING:tensorflow:From /usr/local/lib/python3.6/dist-packages/tensorflow/python/framework/op_def_library.py:263: colocate_with (from tensorflow.python.framework.ops) is deprecated and will be removed in a future version.\n",
            "Instructions for updating:\n",
            "Colocations handled automatically by placer.\n",
            "WARNING:tensorflow:From /usr/local/lib/python3.6/dist-packages/tensorflow/python/ops/math_ops.py:3066: to_int32 (from tensorflow.python.ops.math_ops) is deprecated and will be removed in a future version.\n",
            "Instructions for updating:\n",
            "Use tf.cast instead.\n",
            "Train on 645388 samples, validate on 276596 samples\n",
            "Epoch 1/100\n",
            "645388/645388 [==============================] - 8s 13us/step - loss: 354.1470 - mean_absolute_error: 7.9251 - acc: 1.5495e-06 - val_loss: 4.0494 - val_mean_absolute_error: 1.1995 - val_acc: 0.0000e+00\n",
            "Epoch 2/100\n",
            "645388/645388 [==============================] - 8s 13us/step - loss: 3.0936 - mean_absolute_error: 1.0687 - acc: 3.0989e-06 - val_loss: 2.0538 - val_mean_absolute_error: 0.8920 - val_acc: 0.0000e+00\n",
            "Epoch 3/100\n",
            "645388/645388 [==============================] - 8s 13us/step - loss: 2.0430 - mean_absolute_error: 0.8785 - acc: 1.5495e-06 - val_loss: 1.7783 - val_mean_absolute_error: 0.7945 - val_acc: 0.0000e+00\n",
            "Epoch 4/100\n",
            "645388/645388 [==============================] - 8s 13us/step - loss: 1.4289 - mean_absolute_error: 0.7520 - acc: 1.5495e-06 - val_loss: 1.1734 - val_mean_absolute_error: 0.6889 - val_acc: 0.0000e+00\n",
            "Epoch 5/100\n",
            "645388/645388 [==============================] - 8s 13us/step - loss: 1.0212 - mean_absolute_error: 0.6587 - acc: 0.0000e+00 - val_loss: 0.8424 - val_mean_absolute_error: 0.5708 - val_acc: 0.0000e+00\n",
            "Epoch 6/100\n",
            "645388/645388 [==============================] - 8s 13us/step - loss: 0.8129 - mean_absolute_error: 0.5988 - acc: 1.5495e-06 - val_loss: 0.6168 - val_mean_absolute_error: 0.5250 - val_acc: 0.0000e+00\n",
            "Epoch 7/100\n",
            "645388/645388 [==============================] - 8s 13us/step - loss: 0.6980 - mean_absolute_error: 0.5649 - acc: 3.0989e-06 - val_loss: 0.5740 - val_mean_absolute_error: 0.5331 - val_acc: 3.6154e-06\n",
            "Epoch 8/100\n",
            "645388/645388 [==============================] - 8s 13us/step - loss: 0.6238 - mean_absolute_error: 0.5411 - acc: 3.0989e-06 - val_loss: 0.4783 - val_mean_absolute_error: 0.4735 - val_acc: 0.0000e+00\n",
            "Epoch 9/100\n",
            "645388/645388 [==============================] - 8s 13us/step - loss: 0.5707 - mean_absolute_error: 0.5237 - acc: 3.0989e-06 - val_loss: 0.4144 - val_mean_absolute_error: 0.4630 - val_acc: 0.0000e+00\n",
            "Epoch 10/100\n",
            "645388/645388 [==============================] - 8s 13us/step - loss: 0.5340 - mean_absolute_error: 0.5108 - acc: 1.5495e-06 - val_loss: 0.5547 - val_mean_absolute_error: 0.5129 - val_acc: 0.0000e+00\n",
            "Epoch 11/100\n",
            "645388/645388 [==============================] - 8s 13us/step - loss: 0.4999 - mean_absolute_error: 0.4981 - acc: 1.5495e-06 - val_loss: 0.5268 - val_mean_absolute_error: 0.5441 - val_acc: 3.6154e-06\n",
            "Epoch 12/100\n",
            "645388/645388 [==============================] - 8s 13us/step - loss: 0.4704 - mean_absolute_error: 0.4861 - acc: 1.5495e-06 - val_loss: 0.6583 - val_mean_absolute_error: 0.5316 - val_acc: 3.6154e-06\n",
            "Epoch 13/100\n",
            "645388/645388 [==============================] - 8s 13us/step - loss: 0.4494 - mean_absolute_error: 0.4773 - acc: 1.5495e-06 - val_loss: 0.3335 - val_mean_absolute_error: 0.4185 - val_acc: 0.0000e+00\n",
            "Epoch 14/100\n",
            "645388/645388 [==============================] - 8s 13us/step - loss: 0.4311 - mean_absolute_error: 0.4696 - acc: 1.5495e-06 - val_loss: 0.4388 - val_mean_absolute_error: 0.4945 - val_acc: 0.0000e+00\n",
            "Epoch 15/100\n",
            "645388/645388 [==============================] - 8s 13us/step - loss: 0.4166 - mean_absolute_error: 0.4627 - acc: 0.0000e+00 - val_loss: 0.4645 - val_mean_absolute_error: 0.4507 - val_acc: 0.0000e+00\n",
            "Epoch 16/100\n",
            "645388/645388 [==============================] - 8s 13us/step - loss: 0.4030 - mean_absolute_error: 0.4560 - acc: 1.5495e-06 - val_loss: 0.4582 - val_mean_absolute_error: 0.5124 - val_acc: 3.6154e-06\n",
            "Epoch 17/100\n",
            "645388/645388 [==============================] - 8s 13us/step - loss: 0.3896 - mean_absolute_error: 0.4500 - acc: 1.5495e-06 - val_loss: 0.4069 - val_mean_absolute_error: 0.4949 - val_acc: 0.0000e+00\n",
            "Epoch 18/100\n",
            "645388/645388 [==============================] - 8s 13us/step - loss: 0.3777 - mean_absolute_error: 0.4447 - acc: 0.0000e+00 - val_loss: 0.2804 - val_mean_absolute_error: 0.3917 - val_acc: 0.0000e+00\n",
            "Epoch 19/100\n",
            "645388/645388 [==============================] - 8s 13us/step - loss: 0.3690 - mean_absolute_error: 0.4402 - acc: 0.0000e+00 - val_loss: 0.3558 - val_mean_absolute_error: 0.4532 - val_acc: 3.6154e-06\n",
            "Epoch 20/100\n",
            "645388/645388 [==============================] - 8s 13us/step - loss: 0.3602 - mean_absolute_error: 0.4352 - acc: 0.0000e+00 - val_loss: 0.3389 - val_mean_absolute_error: 0.4102 - val_acc: 0.0000e+00\n",
            "Epoch 21/100\n",
            "645388/645388 [==============================] - 8s 13us/step - loss: 0.3521 - mean_absolute_error: 0.4314 - acc: 1.5495e-06 - val_loss: 0.5495 - val_mean_absolute_error: 0.4999 - val_acc: 0.0000e+00\n",
            "Epoch 22/100\n",
            "645388/645388 [==============================] - 8s 13us/step - loss: 0.3453 - mean_absolute_error: 0.4281 - acc: 0.0000e+00 - val_loss: 0.4281 - val_mean_absolute_error: 0.4834 - val_acc: 0.0000e+00\n",
            "Epoch 23/100\n",
            "645388/645388 [==============================] - 8s 13us/step - loss: 0.3386 - mean_absolute_error: 0.4245 - acc: 1.5495e-06 - val_loss: 0.3254 - val_mean_absolute_error: 0.4189 - val_acc: 0.0000e+00\n",
            "Epoch 24/100\n",
            "645388/645388 [==============================] - 8s 13us/step - loss: 0.3319 - mean_absolute_error: 0.4211 - acc: 0.0000e+00 - val_loss: 0.2990 - val_mean_absolute_error: 0.4210 - val_acc: 0.0000e+00\n",
            "Epoch 25/100\n",
            "645388/645388 [==============================] - 8s 13us/step - loss: 0.3277 - mean_absolute_error: 0.4185 - acc: 1.5495e-06 - val_loss: 0.3286 - val_mean_absolute_error: 0.3954 - val_acc: 0.0000e+00\n",
            "Epoch 26/100\n",
            "645388/645388 [==============================] - 8s 13us/step - loss: 0.3231 - mean_absolute_error: 0.4158 - acc: 1.5495e-06 - val_loss: 0.2599 - val_mean_absolute_error: 0.3719 - val_acc: 0.0000e+00\n",
            "Epoch 27/100\n",
            "645388/645388 [==============================] - 8s 13us/step - loss: 0.3176 - mean_absolute_error: 0.4130 - acc: 1.5495e-06 - val_loss: 0.3769 - val_mean_absolute_error: 0.4459 - val_acc: 0.0000e+00\n",
            "Epoch 28/100\n",
            "645388/645388 [==============================] - 8s 13us/step - loss: 0.3117 - mean_absolute_error: 0.4096 - acc: 1.5495e-06 - val_loss: 0.2715 - val_mean_absolute_error: 0.4012 - val_acc: 0.0000e+00\n",
            "Epoch 29/100\n",
            "645388/645388 [==============================] - 8s 13us/step - loss: 0.3086 - mean_absolute_error: 0.4076 - acc: 0.0000e+00 - val_loss: 0.3037 - val_mean_absolute_error: 0.4148 - val_acc: 0.0000e+00\n",
            "Epoch 30/100\n",
            "645388/645388 [==============================] - 8s 13us/step - loss: 0.3042 - mean_absolute_error: 0.4047 - acc: 0.0000e+00 - val_loss: 0.2897 - val_mean_absolute_error: 0.4058 - val_acc: 0.0000e+00\n",
            "Epoch 31/100\n",
            "645388/645388 [==============================] - 8s 13us/step - loss: 0.2981 - mean_absolute_error: 0.4017 - acc: 1.5495e-06 - val_loss: 0.2829 - val_mean_absolute_error: 0.4034 - val_acc: 0.0000e+00\n",
            "Epoch 32/100\n",
            "645388/645388 [==============================] - 8s 13us/step - loss: 0.2941 - mean_absolute_error: 0.3995 - acc: 1.5495e-06 - val_loss: 0.7126 - val_mean_absolute_error: 0.5686 - val_acc: 3.6154e-06\n",
            "Epoch 33/100\n",
            "645388/645388 [==============================] - 8s 13us/step - loss: 0.2917 - mean_absolute_error: 0.3980 - acc: 1.5495e-06 - val_loss: 0.2431 - val_mean_absolute_error: 0.3658 - val_acc: 3.6154e-06\n",
            "Epoch 34/100\n",
            "645388/645388 [==============================] - 8s 13us/step - loss: 0.2887 - mean_absolute_error: 0.3962 - acc: 0.0000e+00 - val_loss: 0.2547 - val_mean_absolute_error: 0.3925 - val_acc: 3.6154e-06\n",
            "Epoch 35/100\n",
            "645388/645388 [==============================] - 8s 13us/step - loss: 0.2862 - mean_absolute_error: 0.3944 - acc: 1.5495e-06 - val_loss: 0.4427 - val_mean_absolute_error: 0.5212 - val_acc: 3.6154e-06\n",
            "Epoch 36/100\n",
            "645388/645388 [==============================] - 8s 13us/step - loss: 0.2824 - mean_absolute_error: 0.3926 - acc: 1.5495e-06 - val_loss: 0.4573 - val_mean_absolute_error: 0.4838 - val_acc: 3.6154e-06\n",
            "Epoch 37/100\n",
            "645388/645388 [==============================] - 9s 13us/step - loss: 0.2800 - mean_absolute_error: 0.3914 - acc: 0.0000e+00 - val_loss: 0.2917 - val_mean_absolute_error: 0.3993 - val_acc: 3.6154e-06\n",
            "Epoch 38/100\n",
            "645388/645388 [==============================] - 9s 13us/step - loss: 0.2755 - mean_absolute_error: 0.3895 - acc: 0.0000e+00 - val_loss: 0.2216 - val_mean_absolute_error: 0.3615 - val_acc: 3.6154e-06\n",
            "Epoch 39/100\n",
            "645388/645388 [==============================] - 8s 13us/step - loss: 0.2738 - mean_absolute_error: 0.3879 - acc: 1.5495e-06 - val_loss: 0.2067 - val_mean_absolute_error: 0.3472 - val_acc: 0.0000e+00\n",
            "Epoch 40/100\n",
            "645388/645388 [==============================] - 8s 13us/step - loss: 0.2724 - mean_absolute_error: 0.3868 - acc: 1.5495e-06 - val_loss: 0.1930 - val_mean_absolute_error: 0.3376 - val_acc: 3.6154e-06\n",
            "Epoch 41/100\n",
            "645388/645388 [==============================] - 8s 13us/step - loss: 0.2690 - mean_absolute_error: 0.3850 - acc: 1.5495e-06 - val_loss: 0.3211 - val_mean_absolute_error: 0.4046 - val_acc: 0.0000e+00\n",
            "Epoch 42/100\n",
            "645388/645388 [==============================] - 8s 13us/step - loss: 0.2664 - mean_absolute_error: 0.3834 - acc: 0.0000e+00 - val_loss: 0.2640 - val_mean_absolute_error: 0.3854 - val_acc: 0.0000e+00\n",
            "Epoch 43/100\n",
            "645388/645388 [==============================] - 8s 13us/step - loss: 0.2648 - mean_absolute_error: 0.3820 - acc: 1.5495e-06 - val_loss: 0.2507 - val_mean_absolute_error: 0.3878 - val_acc: 3.6154e-06\n",
            "Epoch 44/100\n",
            "645388/645388 [==============================] - 8s 13us/step - loss: 0.2631 - mean_absolute_error: 0.3818 - acc: 0.0000e+00 - val_loss: 0.2067 - val_mean_absolute_error: 0.3412 - val_acc: 0.0000e+00\n",
            "Epoch 45/100\n",
            "645388/645388 [==============================] - 8s 13us/step - loss: 0.2611 - mean_absolute_error: 0.3802 - acc: 3.0989e-06 - val_loss: 0.3168 - val_mean_absolute_error: 0.4244 - val_acc: 0.0000e+00\n",
            "Epoch 46/100\n",
            "645388/645388 [==============================] - 8s 13us/step - loss: 0.2589 - mean_absolute_error: 0.3794 - acc: 0.0000e+00 - val_loss: 0.2141 - val_mean_absolute_error: 0.3563 - val_acc: 0.0000e+00\n",
            "Epoch 47/100\n",
            "645388/645388 [==============================] - 8s 13us/step - loss: 0.2583 - mean_absolute_error: 0.3785 - acc: 0.0000e+00 - val_loss: 0.2353 - val_mean_absolute_error: 0.3723 - val_acc: 3.6154e-06\n",
            "Epoch 48/100\n",
            "645388/645388 [==============================] - 8s 13us/step - loss: 0.2564 - mean_absolute_error: 0.3780 - acc: 1.5495e-06 - val_loss: 0.1872 - val_mean_absolute_error: 0.3360 - val_acc: 3.6154e-06\n",
            "Epoch 49/100\n",
            "645388/645388 [==============================] - 8s 13us/step - loss: 0.2559 - mean_absolute_error: 0.3776 - acc: 0.0000e+00 - val_loss: 0.3448 - val_mean_absolute_error: 0.4297 - val_acc: 0.0000e+00\n",
            "Epoch 50/100\n",
            "645388/645388 [==============================] - 8s 13us/step - loss: 0.2542 - mean_absolute_error: 0.3762 - acc: 0.0000e+00 - val_loss: 0.1867 - val_mean_absolute_error: 0.3298 - val_acc: 3.6154e-06\n",
            "Epoch 51/100\n",
            "645388/645388 [==============================] - 8s 13us/step - loss: 0.2525 - mean_absolute_error: 0.3756 - acc: 1.5495e-06 - val_loss: 0.2169 - val_mean_absolute_error: 0.3450 - val_acc: 3.6154e-06\n",
            "Epoch 52/100\n",
            "645388/645388 [==============================] - 8s 13us/step - loss: 0.2498 - mean_absolute_error: 0.3742 - acc: 0.0000e+00 - val_loss: 0.1806 - val_mean_absolute_error: 0.3286 - val_acc: 0.0000e+00\n",
            "Epoch 53/100\n",
            "645388/645388 [==============================] - 8s 13us/step - loss: 0.2505 - mean_absolute_error: 0.3745 - acc: 0.0000e+00 - val_loss: 0.2736 - val_mean_absolute_error: 0.4164 - val_acc: 0.0000e+00\n",
            "Epoch 54/100\n",
            "645388/645388 [==============================] - 8s 13us/step - loss: 0.2489 - mean_absolute_error: 0.3733 - acc: 1.5495e-06 - val_loss: 0.2014 - val_mean_absolute_error: 0.3414 - val_acc: 0.0000e+00\n",
            "Epoch 55/100\n",
            "645388/645388 [==============================] - 8s 13us/step - loss: 0.2489 - mean_absolute_error: 0.3733 - acc: 1.5495e-06 - val_loss: 0.2526 - val_mean_absolute_error: 0.3750 - val_acc: 0.0000e+00\n",
            "Epoch 56/100\n",
            "645388/645388 [==============================] - 8s 13us/step - loss: 0.2469 - mean_absolute_error: 0.3724 - acc: 1.5495e-06 - val_loss: 0.3619 - val_mean_absolute_error: 0.4642 - val_acc: 3.6154e-06\n",
            "Epoch 57/100\n",
            "645388/645388 [==============================] - 8s 13us/step - loss: 0.2467 - mean_absolute_error: 0.3718 - acc: 1.5495e-06 - val_loss: 0.2222 - val_mean_absolute_error: 0.3602 - val_acc: 0.0000e+00\n",
            "Epoch 58/100\n",
            "645388/645388 [==============================] - 8s 13us/step - loss: 0.2463 - mean_absolute_error: 0.3719 - acc: 0.0000e+00 - val_loss: 0.2950 - val_mean_absolute_error: 0.4030 - val_acc: 3.6154e-06\n",
            "Epoch 59/100\n",
            "645388/645388 [==============================] - 8s 13us/step - loss: 0.2451 - mean_absolute_error: 0.3714 - acc: 1.5495e-06 - val_loss: 0.2096 - val_mean_absolute_error: 0.3547 - val_acc: 3.6154e-06\n",
            "Epoch 60/100\n",
            "645388/645388 [==============================] - 8s 13us/step - loss: 0.2451 - mean_absolute_error: 0.3716 - acc: 1.5495e-06 - val_loss: 0.2293 - val_mean_absolute_error: 0.3762 - val_acc: 0.0000e+00\n",
            "Epoch 61/100\n",
            "645388/645388 [==============================] - 8s 13us/step - loss: 0.2455 - mean_absolute_error: 0.3710 - acc: 3.0989e-06 - val_loss: 0.2275 - val_mean_absolute_error: 0.3678 - val_acc: 3.6154e-06\n",
            "Epoch 62/100\n",
            "645388/645388 [==============================] - 8s 13us/step - loss: 0.2432 - mean_absolute_error: 0.3700 - acc: 0.0000e+00 - val_loss: 0.2049 - val_mean_absolute_error: 0.3470 - val_acc: 0.0000e+00\n",
            "Epoch 63/100\n",
            "645388/645388 [==============================] - 8s 13us/step - loss: 0.2429 - mean_absolute_error: 0.3705 - acc: 1.5495e-06 - val_loss: 0.1894 - val_mean_absolute_error: 0.3307 - val_acc: 0.0000e+00\n",
            "Epoch 64/100\n",
            "645388/645388 [==============================] - 8s 13us/step - loss: 0.2431 - mean_absolute_error: 0.3708 - acc: 1.5495e-06 - val_loss: 0.1877 - val_mean_absolute_error: 0.3338 - val_acc: 3.6154e-06\n",
            "Epoch 65/100\n",
            "645388/645388 [==============================] - 8s 13us/step - loss: 0.2424 - mean_absolute_error: 0.3706 - acc: 0.0000e+00 - val_loss: 0.2788 - val_mean_absolute_error: 0.3844 - val_acc: 3.6154e-06\n",
            "Epoch 66/100\n",
            "645388/645388 [==============================] - 8s 13us/step - loss: 0.2422 - mean_absolute_error: 0.3701 - acc: 3.0989e-06 - val_loss: 0.2504 - val_mean_absolute_error: 0.3769 - val_acc: 0.0000e+00\n",
            "Epoch 67/100\n",
            "645388/645388 [==============================] - 8s 13us/step - loss: 0.2426 - mean_absolute_error: 0.3702 - acc: 1.5495e-06 - val_loss: 0.2058 - val_mean_absolute_error: 0.3518 - val_acc: 3.6154e-06\n",
            "Epoch 68/100\n",
            "645388/645388 [==============================] - 8s 13us/step - loss: 0.2408 - mean_absolute_error: 0.3694 - acc: 0.0000e+00 - val_loss: 0.1718 - val_mean_absolute_error: 0.3228 - val_acc: 3.6154e-06\n",
            "Epoch 69/100\n",
            "645388/645388 [==============================] - 8s 13us/step - loss: 0.2416 - mean_absolute_error: 0.3695 - acc: 1.5495e-06 - val_loss: 0.2747 - val_mean_absolute_error: 0.3910 - val_acc: 0.0000e+00\n",
            "Epoch 70/100\n",
            "645388/645388 [==============================] - 8s 13us/step - loss: 0.2411 - mean_absolute_error: 0.3695 - acc: 1.5495e-06 - val_loss: 0.1743 - val_mean_absolute_error: 0.3249 - val_acc: 3.6154e-06\n",
            "Epoch 71/100\n",
            "645388/645388 [==============================] - 8s 13us/step - loss: 0.2401 - mean_absolute_error: 0.3688 - acc: 1.5495e-06 - val_loss: 0.1752 - val_mean_absolute_error: 0.3213 - val_acc: 3.6154e-06\n",
            "Epoch 72/100\n",
            "645388/645388 [==============================] - 8s 13us/step - loss: 0.2404 - mean_absolute_error: 0.3692 - acc: 0.0000e+00 - val_loss: 0.1840 - val_mean_absolute_error: 0.3330 - val_acc: 0.0000e+00\n",
            "Epoch 73/100\n",
            "645388/645388 [==============================] - 8s 13us/step - loss: 0.2405 - mean_absolute_error: 0.3691 - acc: 1.5495e-06 - val_loss: 0.1832 - val_mean_absolute_error: 0.3340 - val_acc: 3.6154e-06\n",
            "Epoch 74/100\n",
            "645388/645388 [==============================] - 8s 13us/step - loss: 0.2400 - mean_absolute_error: 0.3688 - acc: 1.5495e-06 - val_loss: 0.1943 - val_mean_absolute_error: 0.3413 - val_acc: 3.6154e-06\n",
            "Epoch 75/100\n",
            "645388/645388 [==============================] - 9s 13us/step - loss: 0.2398 - mean_absolute_error: 0.3692 - acc: 1.5495e-06 - val_loss: 0.1807 - val_mean_absolute_error: 0.3296 - val_acc: 0.0000e+00\n",
            "Epoch 76/100\n",
            "645388/645388 [==============================] - 8s 13us/step - loss: 0.2394 - mean_absolute_error: 0.3686 - acc: 3.0989e-06 - val_loss: 0.2666 - val_mean_absolute_error: 0.3979 - val_acc: 3.6154e-06\n",
            "Epoch 77/100\n",
            "645388/645388 [==============================] - 8s 13us/step - loss: 0.2394 - mean_absolute_error: 0.3686 - acc: 0.0000e+00 - val_loss: 0.3483 - val_mean_absolute_error: 0.4340 - val_acc: 0.0000e+00\n",
            "Epoch 78/100\n",
            "645388/645388 [==============================] - 8s 13us/step - loss: 0.2398 - mean_absolute_error: 0.3690 - acc: 1.5495e-06 - val_loss: 0.1817 - val_mean_absolute_error: 0.3260 - val_acc: 3.6154e-06\n",
            "Epoch 79/100\n",
            "645388/645388 [==============================] - 8s 13us/step - loss: 0.2392 - mean_absolute_error: 0.3681 - acc: 1.5495e-06 - val_loss: 0.1976 - val_mean_absolute_error: 0.3388 - val_acc: 3.6154e-06\n",
            "Epoch 80/100\n",
            "645388/645388 [==============================] - 8s 13us/step - loss: 0.2383 - mean_absolute_error: 0.3679 - acc: 3.0989e-06 - val_loss: 0.2055 - val_mean_absolute_error: 0.3390 - val_acc: 0.0000e+00\n",
            "Epoch 81/100\n",
            "645388/645388 [==============================] - 8s 13us/step - loss: 0.2382 - mean_absolute_error: 0.3683 - acc: 1.5495e-06 - val_loss: 0.3561 - val_mean_absolute_error: 0.4242 - val_acc: 3.6154e-06\n",
            "Epoch 82/100\n",
            "645388/645388 [==============================] - 8s 13us/step - loss: 0.2380 - mean_absolute_error: 0.3680 - acc: 0.0000e+00 - val_loss: 0.3300 - val_mean_absolute_error: 0.3962 - val_acc: 3.6154e-06\n",
            "Epoch 83/100\n",
            "645388/645388 [==============================] - 8s 13us/step - loss: 0.2378 - mean_absolute_error: 0.3675 - acc: 0.0000e+00 - val_loss: 0.1992 - val_mean_absolute_error: 0.3417 - val_acc: 3.6154e-06\n",
            "Epoch 84/100\n",
            "645388/645388 [==============================] - 8s 13us/step - loss: 0.2370 - mean_absolute_error: 0.3675 - acc: 3.0989e-06 - val_loss: 0.5078 - val_mean_absolute_error: 0.5043 - val_acc: 3.6154e-06\n",
            "Epoch 85/100\n",
            "645388/645388 [==============================] - 8s 13us/step - loss: 0.2369 - mean_absolute_error: 0.3674 - acc: 0.0000e+00 - val_loss: 0.2329 - val_mean_absolute_error: 0.3688 - val_acc: 3.6154e-06\n",
            "Epoch 86/100\n",
            "645388/645388 [==============================] - 8s 13us/step - loss: 0.2376 - mean_absolute_error: 0.3674 - acc: 3.0989e-06 - val_loss: 0.2940 - val_mean_absolute_error: 0.3989 - val_acc: 3.6154e-06\n",
            "Epoch 87/100\n",
            "645388/645388 [==============================] - 8s 13us/step - loss: 0.2360 - mean_absolute_error: 0.3669 - acc: 1.5495e-06 - val_loss: 0.2058 - val_mean_absolute_error: 0.3474 - val_acc: 0.0000e+00\n",
            "Epoch 88/100\n",
            "645388/645388 [==============================] - 8s 13us/step - loss: 0.2358 - mean_absolute_error: 0.3665 - acc: 0.0000e+00 - val_loss: 0.2039 - val_mean_absolute_error: 0.3398 - val_acc: 3.6154e-06\n",
            "Epoch 89/100\n",
            "645388/645388 [==============================] - 8s 13us/step - loss: 0.2352 - mean_absolute_error: 0.3664 - acc: 3.0989e-06 - val_loss: 0.2184 - val_mean_absolute_error: 0.3460 - val_acc: 3.6154e-06\n",
            "Epoch 90/100\n",
            "645388/645388 [==============================] - 8s 13us/step - loss: 0.2350 - mean_absolute_error: 0.3665 - acc: 1.5495e-06 - val_loss: 0.2390 - val_mean_absolute_error: 0.3560 - val_acc: 0.0000e+00\n",
            "Epoch 91/100\n",
            "645388/645388 [==============================] - 8s 13us/step - loss: 0.2341 - mean_absolute_error: 0.3657 - acc: 0.0000e+00 - val_loss: 0.2256 - val_mean_absolute_error: 0.3624 - val_acc: 3.6154e-06\n",
            "Epoch 92/100\n",
            "645388/645388 [==============================] - 8s 13us/step - loss: 0.2349 - mean_absolute_error: 0.3661 - acc: 0.0000e+00 - val_loss: 0.2382 - val_mean_absolute_error: 0.3715 - val_acc: 3.6154e-06\n",
            "Epoch 93/100\n",
            "645388/645388 [==============================] - 8s 13us/step - loss: 0.2349 - mean_absolute_error: 0.3662 - acc: 1.5495e-06 - val_loss: 0.1989 - val_mean_absolute_error: 0.3441 - val_acc: 3.6154e-06\n",
            "Epoch 94/100\n",
            "645388/645388 [==============================] - 8s 13us/step - loss: 0.2333 - mean_absolute_error: 0.3656 - acc: 3.0989e-06 - val_loss: 0.2364 - val_mean_absolute_error: 0.3835 - val_acc: 3.6154e-06\n",
            "Epoch 95/100\n",
            "645388/645388 [==============================] - 8s 13us/step - loss: 0.2333 - mean_absolute_error: 0.3653 - acc: 1.5495e-06 - val_loss: 0.2889 - val_mean_absolute_error: 0.4037 - val_acc: 3.6154e-06\n",
            "Epoch 96/100\n",
            "645388/645388 [==============================] - 8s 13us/step - loss: 0.2332 - mean_absolute_error: 0.3650 - acc: 1.5495e-06 - val_loss: 0.1941 - val_mean_absolute_error: 0.3366 - val_acc: 0.0000e+00\n",
            "Epoch 97/100\n",
            "645388/645388 [==============================] - 8s 13us/step - loss: 0.2332 - mean_absolute_error: 0.3653 - acc: 1.5495e-06 - val_loss: 0.1859 - val_mean_absolute_error: 0.3367 - val_acc: 0.0000e+00\n",
            "Epoch 98/100\n",
            "645388/645388 [==============================] - 8s 13us/step - loss: 0.2325 - mean_absolute_error: 0.3647 - acc: 3.0989e-06 - val_loss: 0.1805 - val_mean_absolute_error: 0.3239 - val_acc: 0.0000e+00\n",
            "Epoch 99/100\n",
            "645388/645388 [==============================] - 8s 13us/step - loss: 0.2324 - mean_absolute_error: 0.3648 - acc: 1.5495e-06 - val_loss: 0.2537 - val_mean_absolute_error: 0.3893 - val_acc: 3.6154e-06\n",
            "Epoch 100/100\n",
            "645388/645388 [==============================] - 8s 13us/step - loss: 0.2314 - mean_absolute_error: 0.3645 - acc: 3.0989e-06 - val_loss: 0.3059 - val_mean_absolute_error: 0.3932 - val_acc: 0.0000e+00\n"
          ],
          "name": "stdout"
        }
      ]
    },
    {
      "metadata": {
        "id": "V-IVOs5d6YII",
        "colab_type": "code",
        "outputId": "7513f590-8766-4f74-c342-056f111fe526",
        "colab": {
          "base_uri": "https://localhost:8080/",
          "height": 187
        }
      },
      "cell_type": "code",
      "source": [
        "model.predict(X_train[0:10])\n"
      ],
      "execution_count": 13,
      "outputs": [
        {
          "output_type": "execute_result",
          "data": {
            "text/plain": [
              "array([[24.608072 ],\n",
              "       [13.185534 ],\n",
              "       [38.320343 ],\n",
              "       [ 8.644571 ],\n",
              "       [16.89828  ],\n",
              "       [ 4.25112  ],\n",
              "       [ 5.5495496],\n",
              "       [ 8.102212 ],\n",
              "       [17.837933 ],\n",
              "       [24.110292 ]], dtype=float32)"
            ]
          },
          "metadata": {
            "tags": []
          },
          "execution_count": 13
        }
      ]
    },
    {
      "metadata": {
        "id": "N4ppa7tCVFW_",
        "colab_type": "code",
        "outputId": "67a83153-5018-4bde-89e0-2a54a69187c7",
        "colab": {
          "base_uri": "https://localhost:8080/",
          "height": 51
        }
      },
      "cell_type": "code",
      "source": [
        "y_train[0:10]"
      ],
      "execution_count": 14,
      "outputs": [
        {
          "output_type": "execute_result",
          "data": {
            "text/plain": [
              "array([24.13965244, 13.45287232, 37.78854976,  8.6814556 , 16.99756505,\n",
              "        4.61558024,  5.44227405,  8.56868131, 17.69093224, 24.01614301])"
            ]
          },
          "metadata": {
            "tags": []
          },
          "execution_count": 14
        }
      ]
    },
    {
      "metadata": {
        "id": "pPAuCsY7AUGK",
        "colab_type": "code",
        "outputId": "4efe17d8-c78f-40a1-b938-7096fd8a7671",
        "colab": {
          "base_uri": "https://localhost:8080/",
          "height": 374
        }
      },
      "cell_type": "code",
      "source": [
        "list(pd.read_csv(\"/content/DataSet/demo1.csv\"))"
      ],
      "execution_count": 0,
      "outputs": [
        {
          "output_type": "execute_result",
          "data": {
            "text/plain": [
              "['CPU_freq',\n",
              " 'CPU_cores_percent',\n",
              " 'memory',\n",
              " 'cycles',\n",
              " 'time',\n",
              " 'temperature',\n",
              " 'CPU_core_demand',\n",
              " 'RAM_demand',\n",
              " 'swap',\n",
              " 'CPU_freq.1',\n",
              " 'CPU_cores_percent.1',\n",
              " 'memory.1',\n",
              " 'CPU_cores_percent_used',\n",
              " 'instructions',\n",
              " 'cycles.1',\n",
              " 'time.1',\n",
              " 'temperature.1',\n",
              " 'CPU_core_demand.1',\n",
              " 'RAM_demand.1',\n",
              " 'cpi',\n",
              " 'swap.1']"
            ]
          },
          "metadata": {
            "tags": []
          },
          "execution_count": 33
        }
      ]
    },
    {
      "metadata": {
        "id": "1XEyiQdBAXVx",
        "colab_type": "code",
        "outputId": "a8d4ce10-0a96-4c15-bad2-debf5be92611",
        "colab": {
          "base_uri": "https://localhost:8080/",
          "height": 286
        }
      },
      "cell_type": "code",
      "source": [
        "import matplotlib.pyplot as plt\n",
        "plt.plot(y_train,model.predict(X_train),\",\")\n"
      ],
      "execution_count": 38,
      "outputs": [
        {
          "output_type": "execute_result",
          "data": {
            "text/plain": [
              "[<matplotlib.lines.Line2D at 0x7f21c8646470>]"
            ]
          },
          "metadata": {
            "tags": []
          },
          "execution_count": 38
        },
        {
          "output_type": "display_data",
          "data": {
            "image/png": "[encoded data removed]",
            "text/plain": [
              "<Figure size 432x288 with 1 Axes>"
            ]
          },
          "metadata": {
            "tags": []
          }
        }
      ]
    },
    {
      "metadata": {
        "id": "i-aWE8MJGE_Q",
        "colab_type": "code",
        "colab": {}
      },
      "cell_type": "code",
      "source": [
        "from sklearn import linear_model"
      ],
      "execution_count": 0,
      "outputs": []
    },
    {
      "metadata": {
        "id": "r5IO_0CBIrbr",
        "colab_type": "code",
        "colab": {}
      },
      "cell_type": "code",
      "source": [
        "clf=linear_model.LinearRegression()"
      ],
      "execution_count": 0,
      "outputs": []
    },
    {
      "metadata": {
        "id": "KuvTqJGsIx62",
        "colab_type": "code",
        "outputId": "1beff621-d226-44a1-ce85-fddbb1c22d0a",
        "colab": {
          "base_uri": "https://localhost:8080/",
          "height": 51
        }
      },
      "cell_type": "code",
      "source": [
        "clf.fit(X_train,y_train)"
      ],
      "execution_count": 41,
      "outputs": [
        {
          "output_type": "execute_result",
          "data": {
            "text/plain": [
              "LinearRegression(copy_X=True, fit_intercept=True, n_jobs=None,\n",
              "         normalize=False)"
            ]
          },
          "metadata": {
            "tags": []
          },
          "execution_count": 41
        }
      ]
    },
    {
      "metadata": {
        "id": "DEjEIsHWI6iT",
        "colab_type": "code",
        "outputId": "08d51643-ee53-4bd3-8b32-7857006af432",
        "colab": {
          "base_uri": "https://localhost:8080/",
          "height": 34
        }
      },
      "cell_type": "code",
      "source": [
        "clf.score(X_train,y_train)"
      ],
      "execution_count": 42,
      "outputs": [
        {
          "output_type": "execute_result",
          "data": {
            "text/plain": [
              "0.5279760917217717"
            ]
          },
          "metadata": {
            "tags": []
          },
          "execution_count": 42
        }
      ]
    },
    {
      "metadata": {
        "id": "1bSbNKO7I8vv",
        "colab_type": "code",
        "outputId": "d2710c59-0dd0-4858-ebdf-3a07194a9bfd",
        "colab": {
          "base_uri": "https://localhost:8080/",
          "height": 68
        }
      },
      "cell_type": "code",
      "source": [
        "from sklearn.ensemble import GradientBoostingRegressor\n",
        "from sklearn.metrics import mean_squared_error\n",
        "from sklearn.metrics import mean_absolute_error\n",
        "from sklearn.metrics import accuracy_score\n",
        "clf=GradientBoostingRegressor()\n",
        "clf.fit(X_train,y_train)\n",
        "print(\"accruacy\",clf.score(X_train,y_train))\n",
        "\n",
        "print(\"mean square error\",mean_squared_error(clf.predict(X_test),y_test))\n",
        "print(\"mean absolute error\",mean_absolute_error(clf.predict(X_test),y_test))"
      ],
      "execution_count": 52,
      "outputs": [
        {
          "output_type": "stream",
          "text": [
            "accruacy 0.970399619124728\n",
            "mean square error 20.11976148948346\n",
            "mean absolute error 2.5469020730397194\n"
          ],
          "name": "stdout"
        }
      ]
    },
    {
      "metadata": {
        "id": "a4u_x0Sz0fb8",
        "colab_type": "code",
        "colab": {
          "base_uri": "https://localhost:8080/",
          "height": 171
        },
        "outputId": "036583fe-70a0-42c9-b698-59380872447e"
      },
      "cell_type": "code",
      "source": [
        "from sklearn.ensemble import RandomForestRegressor\n",
        "clf=RandomForestRegressor()\n",
        "\n",
        "clf.fit(X_train,y_train)\n",
        "print(\"accruacy\",clf.score(X_train,y_train))\n",
        "\n",
        "print(\"mean square error\",mean_squared_error(clf.predict(X_test),y_test))\n",
        "print(\"mean absolute error\",mean_absolute_error(clf.predict(X_test),y_test))\n"
      ],
      "execution_count": 53,
      "outputs": [
        {
          "output_type": "stream",
          "text": [
            "/usr/local/lib/python3.6/dist-packages/sklearn/ensemble/forest.py:246: FutureWarning: The default value of n_estimators will change from 10 in version 0.20 to 100 in 0.22.\n",
            "  \"10 in version 0.20 to 100 in 0.22.\", FutureWarning)\n"
          ],
          "name": "stderr"
        },
        {
          "output_type": "stream",
          "text": [
            "accruacy 0.9999429204894195\n",
            "mean square error 0.18156364734775232\n",
            "mean absolute error 0.28839241102452645\n"
          ],
          "name": "stdout"
        }
      ]
    },
    {
      "metadata": {
        "id": "vT4srauRFLZa",
        "colab_type": "code",
        "colab": {
          "base_uri": "https://localhost:8080/",
          "height": 111
        },
        "outputId": "20518017-f616-47c2-bb0d-d332c168c6a2"
      },
      "cell_type": "code",
      "source": [
        "from sklearn import svm\n",
        "clf=svm.SVR()\n",
        "\n",
        "clf.fit(X_train,y_train)\n",
        "print(\"accruacy\",clf.score(X_train,y_train))\n",
        "\n",
        "print(\"mean square error\",mean_squared_error(clf.predict(X_test),y_test))\n",
        "print(\"mean absolute error\",mean_absolute_error(clf.predict(X_test),y_test))\n",
        "\n"
      ],
      "execution_count": 0,
      "outputs": [
        {
          "output_type": "stream",
          "text": [
            "/usr/local/lib/python3.6/dist-packages/sklearn/svm/base.py:196: FutureWarning: The default value of gamma will change from 'auto' to 'scale' in version 0.22 to account better for unscaled features. Set gamma explicitly to 'auto' or 'scale' to avoid this warning.\n",
            "  \"avoid this warning.\", FutureWarning)\n"
          ],
          "name": "stderr"
        }
      ]
    },
    {
      "metadata": {
        "id": "pdlBEgQFJyEd",
        "colab_type": "code",
        "colab": {
          "base_uri": "https://localhost:8080/",
          "height": 34
        },
        "outputId": "adb0077b-125d-47c3-ebe5-50bd1c45e2f1"
      },
      "cell_type": "code",
      "source": [
        "clf.score(X_test,y_test)"
      ],
      "execution_count": 46,
      "outputs": [
        {
          "output_type": "execute_result",
          "data": {
            "text/plain": [
              "0.999710030723138"
            ]
          },
          "metadata": {
            "tags": []
          },
          "execution_count": 46
        }
      ]
    },
    {
      "metadata": {
        "id": "yFu5uMQJKatm",
        "colab_type": "code",
        "outputId": "88ece484-4383-4bad-efc4-083d909a7cd0",
        "colab": {
          "base_uri": "https://localhost:8080/",
          "height": 51
        }
      },
      "cell_type": "code",
      "source": [
        "clf.predict(X_test[0:10])"
      ],
      "execution_count": 47,
      "outputs": [
        {
          "output_type": "execute_result",
          "data": {
            "text/plain": [
              "array([ 4.35199487,  4.09908502, 13.07470958,  7.12889075, 12.48969783,\n",
              "        1.92812007, 12.3142381 ,  6.49992201, 24.22139312,  4.48697286])"
            ]
          },
          "metadata": {
            "tags": []
          },
          "execution_count": 47
        }
      ]
    },
    {
      "metadata": {
        "id": "T2LdCr9I6qaM",
        "colab_type": "code",
        "colab": {
          "base_uri": "https://localhost:8080/",
          "height": 51
        },
        "outputId": "cf89a81f-8612-4542-c488-1b819b8becd1"
      },
      "cell_type": "code",
      "source": [
        "y_test[0:10]"
      ],
      "execution_count": 48,
      "outputs": [
        {
          "output_type": "execute_result",
          "data": {
            "text/plain": [
              "array([ 3.89231182,  3.76930063, 12.58789564,  7.54189365, 12.5010507 ,\n",
              "        2.23569163, 12.56071367,  6.66461028, 24.58573307,  4.37864627])"
            ]
          },
          "metadata": {
            "tags": []
          },
          "execution_count": 48
        }
      ]
    },
    {
      "metadata": {
        "id": "wShu-zj0KcHg",
        "colab_type": "code",
        "outputId": "65e87ce1-2ab7-4878-85a0-13011e2bc383",
        "colab": {
          "base_uri": "https://localhost:8080/",
          "height": 953
        }
      },
      "cell_type": "code",
      "source": [
        "from PIL import Image\n",
        "Image.open(\"/content/DataSet/model.png\")"
      ],
      "execution_count": 0,
      "outputs": [
        {
          "output_type": "execute_result",
          "data": {
            "image/png": "[encoded data removed]",
            "text/plain": [
              "<PIL.PngImagePlugin.PngImageFile image mode=RGB size=216x936 at 0x7F6574F639E8>"
            ]
          },
          "metadata": {
            "tags": []
          },
          "execution_count": 140
        }
      ]
    },
    {
      "metadata": {
        "id": "xiv6OP60KlgV",
        "colab_type": "code",
        "colab": {}
      },
      "cell_type": "code",
      "source": [
        "loss=history.history['loss']\n",
        "val_loss=history.history['val_loss']"
      ],
      "execution_count": 0,
      "outputs": []
    },
    {
      "metadata": {
        "id": "_ThiI_IBL_hv",
        "colab_type": "code",
        "outputId": "6467f5c8-a165-43dd-8ded-cf9bb04f8523",
        "colab": {
          "base_uri": "https://localhost:8080/",
          "height": 286
        }
      },
      "cell_type": "code",
      "source": [
        "import matplotlib.pyplot as plt\n",
        "plt.plot(loss)\n",
        "\n"
      ],
      "execution_count": 19,
      "outputs": [
        {
          "output_type": "execute_result",
          "data": {
            "text/plain": [
              "[<matplotlib.lines.Line2D at 0x7f573abbccf8>]"
            ]
          },
          "metadata": {
            "tags": []
          },
          "execution_count": 19
        },
        {
          "output_type": "display_data",
          "data": {
            "image/png": "[encoded data removed]",
            "text/plain": [
              "<Figure size 432x288 with 1 Axes>"
            ]
          },
          "metadata": {
            "tags": []
          }
        }
      ]
    },
    {
      "metadata": {
        "id": "70Bh-ZFFMO8Y",
        "colab_type": "code",
        "outputId": "c97bc8ba-1429-44ba-b956-639f1511e493",
        "colab": {
          "base_uri": "https://localhost:8080/",
          "height": 286
        }
      },
      "cell_type": "code",
      "source": [
        "plt.plot(val_loss)\n"
      ],
      "execution_count": 20,
      "outputs": [
        {
          "output_type": "execute_result",
          "data": {
            "text/plain": [
              "[<matplotlib.lines.Line2D at 0x7f573abcf8d0>]"
            ]
          },
          "metadata": {
            "tags": []
          },
          "execution_count": 20
        },
        {
          "output_type": "display_data",
          "data": {
            "image/png": "[encoded data removed]",
            "text/plain": [
              "<Figure size 432x288 with 1 Axes>"
            ]
          },
          "metadata": {
            "tags": []
          }
        }
      ]
    },
    {
      "metadata": {
        "id": "FHtr2567MTJN",
        "colab_type": "code",
        "outputId": "6136301f-f029-417e-ceda-fe844ab793e1",
        "colab": {
          "base_uri": "https://localhost:8080/",
          "height": 408
        }
      },
      "cell_type": "code",
      "source": [
        "model.summary()"
      ],
      "execution_count": 0,
      "outputs": [
        {
          "output_type": "stream",
          "text": [
            "_________________________________________________________________\n",
            "Layer (type)                 Output Shape              Param #   \n",
            "=================================================================\n",
            "dense_146 (Dense)            (None, 16)                272       \n",
            "_________________________________________________________________\n",
            "activation_16 (Activation)   (None, 16)                0         \n",
            "_________________________________________________________________\n",
            "dense_147 (Dense)            (None, 8)                 136       \n",
            "_________________________________________________________________\n",
            "activation_17 (Activation)   (None, 8)                 0         \n",
            "_________________________________________________________________\n",
            "dense_148 (Dense)            (None, 4)                 36        \n",
            "_________________________________________________________________\n",
            "activation_18 (Activation)   (None, 4)                 0         \n",
            "_________________________________________________________________\n",
            "dense_149 (Dense)            (None, 2)                 10        \n",
            "_________________________________________________________________\n",
            "dense_150 (Dense)            (None, 1)                 3         \n",
            "=================================================================\n",
            "Total params: 457\n",
            "Trainable params: 457\n",
            "Non-trainable params: 0\n",
            "_________________________________________________________________\n"
          ],
          "name": "stdout"
        }
      ]
    },
    {
      "metadata": {
        "id": "jJTjlyLlX3kx",
        "colab_type": "code",
        "colab": {}
      },
      "cell_type": "code",
      "source": [
        "from sklearn import svm"
      ],
      "execution_count": 0,
      "outputs": []
    },
    {
      "metadata": {
        "id": "-GJvapJbYCXI",
        "colab_type": "code",
        "colab": {}
      },
      "cell_type": "code",
      "source": [
        "clf=svm.SVR()"
      ],
      "execution_count": 0,
      "outputs": []
    },
    {
      "metadata": {
        "id": "6rN0LlS7YPdk",
        "colab_type": "code",
        "colab": {}
      },
      "cell_type": "code",
      "source": [
        "print(\"asda \")"
      ],
      "execution_count": 0,
      "outputs": []
    },
    {
      "metadata": {
        "id": "Zp4RY294ZxRo",
        "colab_type": "code",
        "colab": {}
      },
      "cell_type": "code",
      "source": [
        ""
      ],
      "execution_count": 0,
      "outputs": []
    }
  ]
}